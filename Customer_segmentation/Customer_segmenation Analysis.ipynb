{
 "cells": [
  {
   "cell_type": "markdown",
   "source": [
    "# Explanation for the Customer Segmentation"
   ],
   "metadata": {
    "collapsed": false
   },
   "id": "3ce7af3bf3b7e1ba"
  },
  {
   "cell_type": "markdown",
   "source": [
    "## 1. Age Histogram Image\n",
    "- The customer age ranges from slightly below 15 to slightly above 75 years of age\n",
    "- The customers' frequency concentration is very high from 45 to 65 years of age due to the fact that they are still economically active and have accomplished many things so that are bound to spend more of their time spending money\n",
    "- The frequency of customers is least concentrated above 65 due to the fact that the customers are most likely disabled physically to go shopping"
   ],
   "metadata": {
    "collapsed": false
   },
   "id": "c191e4cff90430f5"
  },
  {
   "cell_type": "markdown",
   "source": [
    "## 2. Age and Income Relationship\n",
    "- there is no relationship"
   ],
   "metadata": {
    "collapsed": false
   },
   "id": "2d564af245c991"
  },
  {
   "cell_type": "markdown",
   "source": [
    "## 3. Category Based Purchase Frequency\n",
    "- The mean purchase frequency is almost identical for all the categories, but groceries and sports are slightly higher than the others meaning that customers are gaining more interest and sporting activities, and groceries are the most basic needs for the customers"
   ],
   "metadata": {
    "collapsed": false
   },
   "id": "87b365f414cef3dd"
  },
  {
   "cell_type": "markdown",
   "source": [
    "## 4. Gender Based Spending score\n",
    "- The spending scores of all genders are almost identical but males have the least spending score meaning that males be a bit less interested in shopping"
   ],
   "metadata": {
    "collapsed": false
   },
   "id": "f072f7b651989dd2"
  },
  {
   "cell_type": "markdown",
   "source": [
    "## 5. Gender Based Membership Plot\n",
    "- the average membership years for all the genders is almost identical, but male have a bit more membership years which could mean customers are a bit more loyal customers"
   ],
   "metadata": {
    "collapsed": false
   },
   "id": "f3f229fbdc913d81"
  },
  {
   "cell_type": "markdown",
   "source": [
    "## 6. Gender Bar Chart\n",
    "- males is the most dominant gender of all the genders "
   ],
   "metadata": {
    "collapsed": false
   },
   "id": "bbabd78950aec2e2"
  },
  {
   "cell_type": "markdown",
   "source": [
    "## 7. Membership Years distribution\n",
    "- the frequency density of all the customers positively skewed. This means that the most customers have lesser membership years, which could mean that the business is going, the rate at which the business is gaining more members is increasing annually"
   ],
   "metadata": {
    "collapsed": false
   },
   "id": "bc3eda1c5fe1002f"
  },
  {
   "cell_type": "markdown",
   "source": [
    "## 8. Preferred category\n",
    "- all the category have all most the same number of customers,except for the clothing category,this could mean that customers invest less in clothes"
   ],
   "metadata": {
    "collapsed": false
   },
   "id": "a5243a548383cd10"
  },
  {
   "cell_type": "markdown",
   "source": [
    "## 9. Purchase Frequency Histogram\n",
    "- all the purchase frequency is normally distributed meaning the peak purchase frequencies are experienced around 20 and 40 "
   ],
   "metadata": {
    "collapsed": false
   },
   "id": "5a8143e321eeea1d"
  },
  {
   "cell_type": "markdown",
   "source": [
    "## 10. Relationship Pairplot\n",
    "- there is no any relationship amongst varibles in the whole dataset "
   ],
   "metadata": {
    "collapsed": false
   },
   "id": "81baa926107434d3"
  },
  {
   "cell_type": "markdown",
   "source": [
    "## 11. Salary histogram\n",
    "- there is no patterns in the salary range"
   ],
   "metadata": {
    "collapsed": false
   },
   "id": "8e076183b80d727"
  },
  {
   "cell_type": "markdown",
   "source": [
    "## 12. Spending Score Histogram\n",
    "- the lowest spending scores are between 50 and 60 percent. I have not yet found any explanation for that"
   ],
   "metadata": {
    "collapsed": false
   },
   "id": "c2d9dc4ab491614f"
  },
  {
   "cell_type": "markdown",
   "source": [
    "13. "
   ],
   "metadata": {
    "collapsed": false
   },
   "id": "a40d33485b42519"
  },
  {
   "cell_type": "markdown",
   "source": [],
   "metadata": {
    "collapsed": false
   },
   "id": "4c9e4146b2e9cc67"
  },
  {
   "cell_type": "markdown",
   "source": [],
   "metadata": {
    "collapsed": false
   },
   "id": "556fdbf43bd10ff9"
  },
  {
   "cell_type": "markdown",
   "source": [],
   "metadata": {
    "collapsed": false
   },
   "id": "b32c516b4e91d89"
  },
  {
   "cell_type": "markdown",
   "source": [],
   "metadata": {
    "collapsed": false
   },
   "id": "b20b0509f098048f"
  },
  {
   "cell_type": "markdown",
   "source": [],
   "metadata": {
    "collapsed": false
   },
   "id": "74a097cfd992a88e"
  },
  {
   "cell_type": "markdown",
   "source": [],
   "metadata": {
    "collapsed": false
   },
   "id": "503fde987292e6b1"
  },
  {
   "cell_type": "markdown",
   "source": [],
   "metadata": {
    "collapsed": false
   },
   "id": "7add34de621c8a0d"
  },
  {
   "cell_type": "markdown",
   "source": [],
   "metadata": {
    "collapsed": false
   },
   "id": "9454d944b7dfe16"
  },
  {
   "cell_type": "markdown",
   "source": [],
   "metadata": {
    "collapsed": false
   },
   "id": "f763175cc2b7bfbd"
  },
  {
   "cell_type": "code",
   "outputs": [],
   "source": [
    "%%sql\n"
   ],
   "metadata": {
    "collapsed": false,
    "SqlCellData": {
     "variableName$1": "df_sql"
    }
   },
   "id": "4dd51ba376239a18"
  },
  {
   "cell_type": "markdown",
   "source": [],
   "metadata": {
    "collapsed": false
   },
   "id": "71fdf190ababe9d6"
  },
  {
   "cell_type": "markdown",
   "source": [],
   "metadata": {
    "collapsed": false
   },
   "id": "b3350d68828cb269"
  }
 ],
 "metadata": {
  "kernelspec": {
   "display_name": "Python 3",
   "language": "python",
   "name": "python3"
  },
  "language_info": {
   "codemirror_mode": {
    "name": "ipython",
    "version": 2
   },
   "file_extension": ".py",
   "mimetype": "text/x-python",
   "name": "python",
   "nbconvert_exporter": "python",
   "pygments_lexer": "ipython2",
   "version": "2.7.6"
  }
 },
 "nbformat": 4,
 "nbformat_minor": 5
}
